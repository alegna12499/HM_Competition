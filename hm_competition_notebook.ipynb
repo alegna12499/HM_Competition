{
 "cells": [
  {
   "cell_type": "markdown",
   "id": "9c98a812",
   "metadata": {},
   "source": [
    "# H&M Personalized Fashion Recommendations\n",
    "\n",
    "## Purpose\n",
    "\n",
    "To develop product recommendations based on data from previous transactions and product and customer metadata. Using ML techniques, we will build a model to predict what articles each customer will purchase in the following 7-day period.  Customers who didn't make a purchase will be excluded from scoring.  \n",
    "\n",
    "## Datasets\n",
    "- articles.csv \n",
    "    - appearance\n",
    "    - product family\n",
    "    - name\n",
    "- customers.csv\n",
    "    - club status \n",
    "    - age\n",
    "    - postal code\n",
    "- transactions_train.csv\n",
    "    - data to train the completed model on"
   ]
  },
  {
   "cell_type": "code",
   "execution_count": 4,
   "id": "8bc16a14",
   "metadata": {},
   "outputs": [
    {
     "name": "stdout",
     "output_type": "stream",
     "text": [
      "['customers.csv', '.DS_Store', 'articles.csv', 'transactions_train.csv', 'sample_submission.csv']\n"
     ]
    }
   ],
   "source": [
    "# set up paths and create datasets\n",
    "import os\n",
    "import pandas as pd\n",
    "from dask import dataframe as dframe # the training dataset is hugenormous so we'll let dask handle it\n",
    "\n",
    "# create paths based on current working directory\n",
    "data_folder = os.path.join(os.getcwd(), 'data')\n",
    "hm_datasets = os.path.join(data_folder, 'h-and-m-personalized-fashion-recommendations')\n",
    "print(os.listdir(hm_datasets))\n",
    "\n",
    "# convert csv files to dataframes\n",
    "customers = pd.read_csv(os.path.join(hm_datasets, 'customers.csv'))\n",
    "articles = pd.read_csv(os.path.join(hm_datasets, 'articles.csv'))\n",
    "submission = pd.read_csv(os.path.join(hm_datasets, 'sample_submission.csv'))\n",
    "txs = dframe.read_csv(os.path.join(hm_datasets,'transactions_train.csv'))"
   ]
  },
  {
   "cell_type": "code",
   "execution_count": 5,
   "id": "8e33995c",
   "metadata": {},
   "outputs": [
    {
     "data": {
      "text/plain": [
       "'0706016001 0706016002 0372860001 0610776002 0759871002 0464297007 0372860002 0610776001 0399223001 0706016003 0720125001 0156231001'"
      ]
     },
     "execution_count": 5,
     "metadata": {},
     "output_type": "execute_result"
    }
   ],
   "source": [
    "submission.iloc[0][1] # sample view of prediction for formatting"
   ]
  },
  {
   "cell_type": "code",
   "execution_count": 6,
   "id": "a431a270",
   "metadata": {},
   "outputs": [
    {
     "data": {
      "text/plain": [
       "customer_id                    0\n",
       "FN                        895050\n",
       "Active                    907576\n",
       "club_member_status          6062\n",
       "fashion_news_frequency     16009\n",
       "age                        15861\n",
       "postal_code                    0\n",
       "dtype: int64"
      ]
     },
     "execution_count": 6,
     "metadata": {},
     "output_type": "execute_result"
    }
   ],
   "source": [
    "customers.isna().sum() # get null counts per column"
   ]
  },
  {
   "cell_type": "code",
   "execution_count": 7,
   "id": "507a201c",
   "metadata": {},
   "outputs": [
    {
     "data": {
      "text/plain": [
       "customer_id               1371980\n",
       "FN                              1\n",
       "Active                          1\n",
       "club_member_status              3\n",
       "fashion_news_frequency          4\n",
       "age                            84\n",
       "postal_code                352899\n",
       "dtype: int64"
      ]
     },
     "execution_count": 7,
     "metadata": {},
     "output_type": "execute_result"
    }
   ],
   "source": [
    "clean_cust = customers.copy(deep=True) # copy df to clean values\n",
    "clean_cust.nunique()"
   ]
  },
  {
   "cell_type": "code",
   "execution_count": 8,
   "id": "540f6cb3",
   "metadata": {},
   "outputs": [
    {
     "data": {
      "text/plain": [
       "ACTIVE        1272491\n",
       "PRE-CREATE      92960\n",
       "NaN              6062\n",
       "LEFT CLUB         467\n",
       "Name: club_member_status, dtype: int64"
      ]
     },
     "execution_count": 8,
     "metadata": {},
     "output_type": "execute_result"
    }
   ],
   "source": [
    "clean_cust[['FN','Active']] = clean_cust[['FN','Active']].fillna(value=0) # FN and Active are binary - either True or False\n",
    "\n",
    "clean_cust.club_member_status.value_counts(dropna=False)"
   ]
  },
  {
   "cell_type": "code",
   "execution_count": 9,
   "id": "b98cf33c",
   "metadata": {},
   "outputs": [
    {
     "data": {
      "text/plain": [
       "NONE         877713\n",
       "REGULARLY    477416\n",
       "NaN           16009\n",
       "MONTHLY         842\n",
       "Name: fashion_news_frequency, dtype: int64"
      ]
     },
     "execution_count": 9,
     "metadata": {},
     "output_type": "execute_result"
    }
   ],
   "source": [
    "clean_cust.club_member_status.fillna('NEVER',inplace=True) # assuming if null, never joined club\n",
    "\n",
    "clean_cust.fashion_news_frequency = clean_cust.fashion_news_frequency.str.upper() # normalize text to uppercase\n",
    "clean_cust.fashion_news_frequency.value_counts(dropna=False)"
   ]
  },
  {
   "cell_type": "code",
   "execution_count": 10,
   "id": "13cc301d",
   "metadata": {},
   "outputs": [
    {
     "data": {
      "text/plain": [
       "FN   Active\n",
       "0.0  0.0       876922\n",
       "1.0  1.0          500\n",
       "     0.0          291\n",
       "dtype: int64"
      ]
     },
     "execution_count": 10,
     "metadata": {},
     "output_type": "execute_result"
    }
   ],
   "source": [
    "clean_cust[clean_cust.fashion_news_frequency == 'NONE'][['FN','Active']].value_counts() # FN by None"
   ]
  },
  {
   "cell_type": "code",
   "execution_count": 11,
   "id": "301b4767",
   "metadata": {},
   "outputs": [
    {
     "data": {
      "text/plain": [
       "FN   Active  club_member_status\n",
       "0.0  0.0     ACTIVE                11925\n",
       "             PRE-CREATE             2049\n",
       "             NEVER                  2035\n",
       "dtype: int64"
      ]
     },
     "execution_count": 11,
     "metadata": {},
     "output_type": "execute_result"
    }
   ],
   "source": [
    "clean_cust[clean_cust.fashion_news_frequency.isna()][['FN','Active','club_member_status']].value_counts() # FN by Null"
   ]
  },
  {
   "cell_type": "markdown",
   "id": "c833e28f",
   "metadata": {},
   "source": [
    "We see 500 instances where `FN`, `Active`, and `club_member_status` all indicate active membership, however `fashion_news_frequency` is `NONE`.  In order to understand the best way to handle null values we need to understand if these rows are eroneous and removable, and thus NaN values can be called None, or if another value should be used in place.  After running through the signup form for the fashion news frequency, there is no clear indication for what `REGULARLY` or `MONTHLY` mean in this context. \n",
    "\n",
    "Given the relavitely small number of nulls, it may make sense to drop the rows where `FN` or `Active` are `NONE` and impute all NaN values to equal 0.  This should help to reduce potential noise as we move forward."
   ]
  },
  {
   "cell_type": "code",
   "execution_count": 12,
   "id": "0ce4c617",
   "metadata": {
    "scrolled": true
   },
   "outputs": [
    {
     "data": {
      "text/plain": [
       "customer_id                   0\n",
       "FN                            0\n",
       "Active                        0\n",
       "club_member_status            0\n",
       "fashion_news_frequency        0\n",
       "age                       15853\n",
       "postal_code                   0\n",
       "dtype: int64"
      ]
     },
     "execution_count": 12,
     "metadata": {},
     "output_type": "execute_result"
    }
   ],
   "source": [
    "clean_cust = clean_cust.drop(clean_cust[(clean_cust.fashion_news_frequency == 'NONE') & (clean_cust.FN == 1.0)].index)\n",
    "clean_cust.fashion_news_frequency = clean_cust.fashion_news_frequency.fillna(0)\n",
    "\n",
    "clean_cust.isna().sum()"
   ]
  },
  {
   "cell_type": "code",
   "execution_count": 26,
   "id": "3c69ff1c",
   "metadata": {},
   "outputs": [
    {
     "data": {
      "text/plain": [
       "<matplotlib.lines.Line2D at 0x7fc3a863b9d0>"
      ]
     },
     "execution_count": 26,
     "metadata": {},
     "output_type": "execute_result"
    },
    {
     "data": {
      "image/png": "[encoded data removed]",
      "text/plain": [
       "<Figure size 432x288 with 1 Axes>"
      ]
     },
     "metadata": {},
     "output_type": "display_data"
    }
   ],
   "source": [
    "%matplotlib inline\n",
    "import numpy as np\n",
    "import matplotlib.pyplot as plt\n",
    "import seaborn as sns\n",
    "plt.style.use('seaborn-white')\n",
    "\n",
    "sns.histplot(data = clean_cust, x = clean_cust.age)\n",
    "\n",
    "plt.axvline(x = clean_cust.age.mean(), color = 'red', linestyle='--', label=\"Mean\")\n",
    "plt.axvline(x = clean_cust.age.median(), color='green', linestyle='-', label=\"Median\")\n",
    "plt.axvline(x = clean_cust.age.mode()[0], color='blue', linestyle='-', label=\"Mode\")\n"
   ]
  },
  {
   "cell_type": "code",
   "execution_count": 35,
   "id": "18937b8f",
   "metadata": {},
   "outputs": [
    {
     "data": {
      "image/png": "[encoded data removed]",
      "text/plain": [
       "<Figure size 432x288 with 1 Axes>"
      ]
     },
     "metadata": {},
     "output_type": "display_data"
    },
    {
     "data": {
      "image/png": "[encoded data removed]",
      "text/plain": [
       "<Figure size 432x288 with 1 Axes>"
      ]
     },
     "metadata": {},
     "output_type": "display_data"
    },
    {
     "data": {
      "image/png": "[encoded data removed]",
      "text/plain": [
       "<Figure size 432x288 with 1 Axes>"
      ]
     },
     "metadata": {},
     "output_type": "display_data"
    },
    {
     "data": {
      "image/png": "[encoded data removed]",
      "text/plain": [
       "<Figure size 432x288 with 1 Axes>"
      ]
     },
     "metadata": {},
     "output_type": "display_data"
    },
    {
     "data": {
      "image/png": "[encoded data removed]",
      "text/plain": [
       "<Figure size 432x288 with 1 Axes>"
      ]
     },
     "metadata": {},
     "output_type": "display_data"
    },
    {
     "data": {
      "image/png": "[encoded data removed]",
      "text/plain": [
       "<Figure size 432x288 with 1 Axes>"
      ]
     },
     "metadata": {},
     "output_type": "display_data"
    },
    {
     "data": {
      "image/png": "[encoded data removed]",
      "text/plain": [
       "<Figure size 432x288 with 1 Axes>"
      ]
     },
     "metadata": {},
     "output_type": "display_data"
    }
   ],
   "source": [
    "%matplotlib inline\n",
    "import numpy as np\n",
    "import matplotlib.pyplot as plt\n",
    "import seaborn as sns\n",
    "plt.style.use('seaborn-white')\n",
    "\n",
    "for i, col in enumerate(clean_cust.columns):\n",
    "    plt.figure(i)\n",
    "    sns.histplot(data = clean_cust, x = clean_cust.age, bins = 30)"
   ]
  },
  {
   "cell_type": "code",
   "execution_count": null,
   "id": "26ff8f84",
   "metadata": {
    "scrolled": false
   },
   "outputs": [],
   "source": [
    "articles.head()"
   ]
  },
  {
   "cell_type": "code",
   "execution_count": null,
   "id": "c8a1a11f",
   "metadata": {},
   "outputs": [],
   "source": [
    "txs.head()"
   ]
  },
  {
   "cell_type": "markdown",
   "id": "156aaff6",
   "metadata": {},
   "source": [
    "# Exploring the Data\n",
    "\n",
    "## Building a dataset\n",
    "\n",
    "We'll start by grouping customers based on certain characteristics.  Some of these could include:\n",
    "- total spend\n",
    "- number of items purchased \n",
    "- types of items purchased\n",
    "- demographics (postal code, age, fn status, club membership) \n",
    "\n",
    "From there we can start taking <a href=https://www.investopedia.com/ask/answers/032615/what-are-some-examples-stratified-random-sampling.aspstratified> stratified samples </a> or begin <a href=https://en.wikipedia.org/wiki/Cluster_analysis> analyzing clusters </a> where patterns of purchases may emerge.  Since we need to build the model on a subset of the data, we need to ensure that we can capture a representative sample while avoiding overfitting."
   ]
  },
  {
   "cell_type": "code",
   "execution_count": null,
   "id": "1a062dc0",
   "metadata": {},
   "outputs": [],
   "source": [
    "# how many unique customers are in the training dataset? \n",
    "len(set(txs['customer_id']))"
   ]
  },
  {
   "cell_type": "code",
   "execution_count": null,
   "id": "10178a4c",
   "metadata": {},
   "outputs": [],
   "source": [
    "# is it equivalent to the number of customers in the customers dataset?\n",
    "len(clean_cust)"
   ]
  },
  {
   "cell_type": "code",
   "execution_count": null,
   "id": "2a8a802a",
   "metadata": {},
   "outputs": [],
   "source": [
    "clean_cust['age'].describe().round(2)"
   ]
  },
  {
   "cell_type": "code",
   "execution_count": null,
   "id": "aa4b5621",
   "metadata": {},
   "outputs": [],
   "source": [
    "%matplotlib inline\n",
    "import seaborn as sns\n",
    "import matplotlib.pyplot as plt\n",
    "clean_cust = customers.copy()\n",
    "clean_cust['FN'] = customers['FN']\n",
    "sns.histplot(data=c_customers,x='age',hue='FN', alpha=.3, bins=20)"
   ]
  },
  {
   "cell_type": "markdown",
   "id": "2ff4d540",
   "metadata": {},
   "source": [
    "The customer age follows a bimodal distribution, concentrating around 25 years old and 55 years old, it seems that older customers are more likely to be FN subscribers."
   ]
  },
  {
   "cell_type": "code",
   "execution_count": null,
   "id": "fc61fc03",
   "metadata": {},
   "outputs": [],
   "source": [
    "# take a 10% customer sample from transactions\n",
    "r_state = 10\n",
    "\n",
    "sample_10 = clean_cust.sample(frac=.1,random_state = r_state) # take 10% random sample of customer ids\n",
    "dask_10 = txs[txs['customer_id'].isin(sample_10['customer_id'])].compute() # filter the dataset to just sampled customers"
   ]
  },
  {
   "cell_type": "code",
   "execution_count": null,
   "id": "5061fbf3",
   "metadata": {},
   "outputs": [],
   "source": [
    "print(articles.columns)\n",
    "\n",
    "name_filter = [word for word in articles.columns if 'name' in word] # list comprehension (the cool way)\n",
    "\n",
    "# test_names = [] # regular way (not as cool)\n",
    "# for word in articles.columns:\n",
    "#     if 'name' in word:\n",
    "#         test_names.append(word)\n",
    "# test_nanes\n",
    "\n",
    "# find the count of unique values for each column in articles dataframe\n",
    "\n",
    "article_names = articles[name_filter].copy()\n",
    "\n",
    "for col in article_names:\n",
    "    print(col, article_names[col].nunique())\n",
    "    \n",
    "articles[['product_code','prod_name']].nunique()\n",
    "\n",
    "colors = [word for word in name_filter if 'colour' in word]\n",
    "\n",
    "articles[colors].head()"
   ]
  },
  {
   "cell_type": "markdown",
   "id": "ac2a75e9",
   "metadata": {},
   "source": [
    "It looks like product code and name might be a messy column to use, for example there is a value `Strap Top` as well as `Strap Top (1)` which share the same product code, however there are about 1500 more unique product codes vs names.  It would therefore add more noise to our model than useful information to try and wrangle that, when the combination of other columns as well as unique article ID would be sufficient. We can now drop product name from our filter. "
   ]
  },
  {
   "cell_type": "code",
   "execution_count": null,
   "id": "a43018b1",
   "metadata": {},
   "outputs": [],
   "source": [
    "dask_10.groupby(['customer_id']).count()"
   ]
  },
  {
   "cell_type": "code",
   "execution_count": null,
   "id": "069b73a7",
   "metadata": {
    "scrolled": false
   },
   "outputs": [],
   "source": [
    "# classifying a single customers's purchases\n",
    "cust_1 = dask_10[dask_10['customer_id'] == 'ffffcf35913a0bee60e8741cb2b4e78b8a98ee5ff2e6a1778d0116cffd259264'].copy()\n",
    "\n",
    "training_cols = ['article_id','price','product_code','product_type_no','graphical_appearance_no',\n",
    "                'colour_group_code','perceived_colour_value_id','perceived_colour_master_id','department_no',\n",
    "                'index_code','index_group_no','section_no','garment_group_no']\n",
    "\n",
    "combined = cust_1.merge(articles,on=\"article_id\")\n",
    "combined.columns"
   ]
  }
 ],
 "metadata": {
  "kernelspec": {
   "display_name": "Python 3 (ipykernel)",
   "language": "python",
   "name": "python3"
  },
  "language_info": {
   "codemirror_mode": {
    "name": "ipython",
    "version": 3
   },
   "file_extension": ".py",
   "mimetype": "text/x-python",
   "name": "python",
   "nbconvert_exporter": "python",
   "pygments_lexer": "ipython3",
   "version": "3.9.7"
  }
 },
 "nbformat": 4,
 "nbformat_minor": 5
}
